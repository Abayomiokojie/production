{
 "cells": [
  {
   "cell_type": "markdown",
   "metadata": {},
   "source": [
    "# Distribution Shifts\n",
    "\n",
    "+ Consider our stock data. \n",
    "+ We are interested in testing changes in return distribution for our sample data around the time of the onset of the COVID 19 pandemic."
   ]
  },
  {
   "cell_type": "code",
   "execution_count": 1,
   "metadata": {},
   "outputs": [],
   "source": [
    "%load_ext dotenv\n",
    "%dotenv ../05_src/.env\n"
   ]
  },
  {
   "cell_type": "code",
   "execution_count": null,
   "metadata": {},
   "outputs": [],
   "source": [
    "\n",
    "import sys\n",
    "import os\n",
    "sys.path.append(\"../05_src/utils\")\n",
    "from logger import get_logger\n",
    "\n",
    "_logs = get_logger(__name__)\n"
   ]
  },
  {
   "cell_type": "code",
   "execution_count": 3,
   "metadata": {},
   "outputs": [
    {
     "name": "stdout",
     "output_type": "stream",
     "text": [
      "Notebook directory: c:\\Users\\J2F\\Desktop\\UoTDS\\production\\01_materials\\labs\n",
      "Project root directory: c:\\Users\\J2F\\Desktop\\UoTDS\\production\\01_materials\n"
     ]
    }
   ],
   "source": [
    "notebook_dir = os.getcwd() \n",
    "print(f\"Notebook directory: {notebook_dir}\")\n",
    "project_root = os.path.abspath(os.path.join(notebook_dir, '..'))\n",
    "print(f\"Project root directory: {project_root}\")"
   ]
  },
  {
   "cell_type": "code",
   "execution_count": 2,
   "metadata": {},
   "outputs": [
    {
     "name": "stdout",
     "output_type": "stream",
     "text": [
      "Project root directory (fixed): c:\\Users\\J2F\\Desktop\\UoTDS\\production\n"
     ]
    }
   ],
   "source": [
    "import sys\n",
    "import os\n",
    "\n",
    "# 1. Get the current directory (which is .../01_materials/labs)\n",
    "notebook_dir = os.getcwd() \n",
    "\n",
    "# 2. Go UP TWO LEVELS to reach the project root (production)\n",
    "#    We join '..' and '..' to traverse two parent directories\n",
    "project_root = os.path.abspath(os.path.join(notebook_dir, '..', '..')) \n",
    "print(f\"Project root directory (fixed): {project_root}\")\n",
    "# 3. Append the '05_src' folder from the project root\n",
    "sys.path.append(os.path.join(project_root, '05_src')) \n",
    "\n",
    "# The import should now work!\n",
    "from utils.logger import get_logger \n",
    "\n",
    "_logs = get_logger(__name__)"
   ]
  },
  {
   "cell_type": "code",
   "execution_count": 5,
   "metadata": {},
   "outputs": [
    {
     "name": "stdout",
     "output_type": "stream",
     "text": [
      "Dask is searching in this directory: ../../05_src/data/features/stock_features\n",
      "Files found by glob: ['../../05_src/data/features/stock_features\\\\part.0.parquet', '../../05_src/data/features/stock_features\\\\part.1.parquet', '../../05_src/data/features/stock_features\\\\part.10.parquet', '../../05_src/data/features/stock_features\\\\part.11.parquet', '../../05_src/data/features/stock_features\\\\part.12.parquet', '../../05_src/data/features/stock_features\\\\part.13.parquet', '../../05_src/data/features/stock_features\\\\part.14.parquet', '../../05_src/data/features/stock_features\\\\part.15.parquet', '../../05_src/data/features/stock_features\\\\part.16.parquet', '../../05_src/data/features/stock_features\\\\part.17.parquet', '../../05_src/data/features/stock_features\\\\part.18.parquet', '../../05_src/data/features/stock_features\\\\part.19.parquet', '../../05_src/data/features/stock_features\\\\part.2.parquet', '../../05_src/data/features/stock_features\\\\part.20.parquet', '../../05_src/data/features/stock_features\\\\part.21.parquet', '../../05_src/data/features/stock_features\\\\part.22.parquet', '../../05_src/data/features/stock_features\\\\part.23.parquet', '../../05_src/data/features/stock_features\\\\part.24.parquet', '../../05_src/data/features/stock_features\\\\part.25.parquet', '../../05_src/data/features/stock_features\\\\part.26.parquet', '../../05_src/data/features/stock_features\\\\part.27.parquet', '../../05_src/data/features/stock_features\\\\part.28.parquet', '../../05_src/data/features/stock_features\\\\part.29.parquet', '../../05_src/data/features/stock_features\\\\part.3.parquet', '../../05_src/data/features/stock_features\\\\part.30.parquet', '../../05_src/data/features/stock_features\\\\part.31.parquet', '../../05_src/data/features/stock_features\\\\part.32.parquet', '../../05_src/data/features/stock_features\\\\part.33.parquet', '../../05_src/data/features/stock_features\\\\part.34.parquet', '../../05_src/data/features/stock_features\\\\part.35.parquet', '../../05_src/data/features/stock_features\\\\part.36.parquet', '../../05_src/data/features/stock_features\\\\part.37.parquet', '../../05_src/data/features/stock_features\\\\part.38.parquet', '../../05_src/data/features/stock_features\\\\part.39.parquet', '../../05_src/data/features/stock_features\\\\part.4.parquet', '../../05_src/data/features/stock_features\\\\part.40.parquet', '../../05_src/data/features/stock_features\\\\part.41.parquet', '../../05_src/data/features/stock_features\\\\part.42.parquet', '../../05_src/data/features/stock_features\\\\part.43.parquet', '../../05_src/data/features/stock_features\\\\part.44.parquet', '../../05_src/data/features/stock_features\\\\part.45.parquet', '../../05_src/data/features/stock_features\\\\part.46.parquet', '../../05_src/data/features/stock_features\\\\part.47.parquet', '../../05_src/data/features/stock_features\\\\part.48.parquet', '../../05_src/data/features/stock_features\\\\part.49.parquet', '../../05_src/data/features/stock_features\\\\part.5.parquet', '../../05_src/data/features/stock_features\\\\part.50.parquet', '../../05_src/data/features/stock_features\\\\part.51.parquet', '../../05_src/data/features/stock_features\\\\part.52.parquet', '../../05_src/data/features/stock_features\\\\part.53.parquet', '../../05_src/data/features/stock_features\\\\part.54.parquet', '../../05_src/data/features/stock_features\\\\part.55.parquet', '../../05_src/data/features/stock_features\\\\part.56.parquet', '../../05_src/data/features/stock_features\\\\part.57.parquet', '../../05_src/data/features/stock_features\\\\part.58.parquet', '../../05_src/data/features/stock_features\\\\part.59.parquet', '../../05_src/data/features/stock_features\\\\part.6.parquet', '../../05_src/data/features/stock_features\\\\part.60.parquet', '../../05_src/data/features/stock_features\\\\part.61.parquet', '../../05_src/data/features/stock_features\\\\part.62.parquet', '../../05_src/data/features/stock_features\\\\part.63.parquet', '../../05_src/data/features/stock_features\\\\part.64.parquet', '../../05_src/data/features/stock_features\\\\part.65.parquet', '../../05_src/data/features/stock_features\\\\part.66.parquet', '../../05_src/data/features/stock_features\\\\part.67.parquet', '../../05_src/data/features/stock_features\\\\part.68.parquet', '../../05_src/data/features/stock_features\\\\part.69.parquet', '../../05_src/data/features/stock_features\\\\part.7.parquet', '../../05_src/data/features/stock_features\\\\part.70.parquet', '../../05_src/data/features/stock_features\\\\part.71.parquet', '../../05_src/data/features/stock_features\\\\part.72.parquet', '../../05_src/data/features/stock_features\\\\part.73.parquet', '../../05_src/data/features/stock_features\\\\part.74.parquet', '../../05_src/data/features/stock_features\\\\part.75.parquet', '../../05_src/data/features/stock_features\\\\part.76.parquet', '../../05_src/data/features/stock_features\\\\part.77.parquet', '../../05_src/data/features/stock_features\\\\part.78.parquet', '../../05_src/data/features/stock_features\\\\part.79.parquet', '../../05_src/data/features/stock_features\\\\part.8.parquet', '../../05_src/data/features/stock_features\\\\part.80.parquet', '../../05_src/data/features/stock_features\\\\part.81.parquet', '../../05_src/data/features/stock_features\\\\part.82.parquet', '../../05_src/data/features/stock_features\\\\part.83.parquet', '../../05_src/data/features/stock_features\\\\part.84.parquet', '../../05_src/data/features/stock_features\\\\part.85.parquet', '../../05_src/data/features/stock_features\\\\part.86.parquet', '../../05_src/data/features/stock_features\\\\part.87.parquet', '../../05_src/data/features/stock_features\\\\part.88.parquet', '../../05_src/data/features/stock_features\\\\part.89.parquet', '../../05_src/data/features/stock_features\\\\part.9.parquet']\n"
     ]
    }
   ],
   "source": [
    "import dask\n",
    "import os\n",
    "dask.config.set({'dataframe.query-planning': True})\n",
    "import dask.dataframe as dd\n",
    "import pandas as pd\n",
    "import numpy as np\n",
    "from glob import glob\n",
    "\n",
    "ft_dir = os.getenv(\"FEATURES_DATA\", '../../05_src/data/features/stock_features')\n",
    "# print(f\"Checking for files in: {os.path.abspath(ft_dir)}\")\n",
    "print(f\"Dask is searching in this directory: {ft_dir}\")\n",
    "\n",
    "ft_glob = glob(ft_dir+'/*.parquet')\n",
    "print(f\"Files found by glob: {ft_glob}\")\n",
    "# If this list is empty ([]), that's the source of your error.\n",
    "\n",
    "df = dd.read_parquet(ft_glob).compute().reset_index()\n",
    "\n"
   ]
  },
  {
   "cell_type": "code",
   "execution_count": 6,
   "metadata": {},
   "outputs": [
    {
     "data": {
      "text/html": [
       "<div>\n",
       "<style scoped>\n",
       "    .dataframe tbody tr th:only-of-type {\n",
       "        vertical-align: middle;\n",
       "    }\n",
       "\n",
       "    .dataframe tbody tr th {\n",
       "        vertical-align: top;\n",
       "    }\n",
       "\n",
       "    .dataframe thead th {\n",
       "        text-align: right;\n",
       "    }\n",
       "</style>\n",
       "<table border=\"1\" class=\"dataframe\">\n",
       "  <thead>\n",
       "    <tr style=\"text-align: right;\">\n",
       "      <th></th>\n",
       "      <th>ticker</th>\n",
       "      <th>Date</th>\n",
       "      <th>Open</th>\n",
       "      <th>High</th>\n",
       "      <th>Low</th>\n",
       "      <th>Close</th>\n",
       "      <th>Adj Close</th>\n",
       "      <th>Volume</th>\n",
       "      <th>source</th>\n",
       "      <th>Year</th>\n",
       "      <th>Close_lag_1</th>\n",
       "    </tr>\n",
       "  </thead>\n",
       "  <tbody>\n",
       "    <tr>\n",
       "      <th>0</th>\n",
       "      <td>ACN</td>\n",
       "      <td>2001-07-19</td>\n",
       "      <td>15.10</td>\n",
       "      <td>15.29</td>\n",
       "      <td>15.00</td>\n",
       "      <td>15.17</td>\n",
       "      <td>11.404394</td>\n",
       "      <td>34994300.0</td>\n",
       "      <td>ACN.csv</td>\n",
       "      <td>2001</td>\n",
       "      <td>NaN</td>\n",
       "    </tr>\n",
       "    <tr>\n",
       "      <th>1</th>\n",
       "      <td>ACN</td>\n",
       "      <td>2001-07-20</td>\n",
       "      <td>15.05</td>\n",
       "      <td>15.05</td>\n",
       "      <td>14.80</td>\n",
       "      <td>15.01</td>\n",
       "      <td>11.284108</td>\n",
       "      <td>9238500.0</td>\n",
       "      <td>ACN.csv</td>\n",
       "      <td>2001</td>\n",
       "      <td>15.17</td>\n",
       "    </tr>\n",
       "    <tr>\n",
       "      <th>2</th>\n",
       "      <td>ACN</td>\n",
       "      <td>2001-07-23</td>\n",
       "      <td>15.00</td>\n",
       "      <td>15.01</td>\n",
       "      <td>14.55</td>\n",
       "      <td>15.00</td>\n",
       "      <td>11.276587</td>\n",
       "      <td>7501000.0</td>\n",
       "      <td>ACN.csv</td>\n",
       "      <td>2001</td>\n",
       "      <td>15.01</td>\n",
       "    </tr>\n",
       "    <tr>\n",
       "      <th>3</th>\n",
       "      <td>ACN</td>\n",
       "      <td>2001-07-24</td>\n",
       "      <td>14.95</td>\n",
       "      <td>14.97</td>\n",
       "      <td>14.70</td>\n",
       "      <td>14.86</td>\n",
       "      <td>11.171341</td>\n",
       "      <td>3537300.0</td>\n",
       "      <td>ACN.csv</td>\n",
       "      <td>2001</td>\n",
       "      <td>15.00</td>\n",
       "    </tr>\n",
       "    <tr>\n",
       "      <th>4</th>\n",
       "      <td>ACN</td>\n",
       "      <td>2001-07-25</td>\n",
       "      <td>14.70</td>\n",
       "      <td>14.95</td>\n",
       "      <td>14.65</td>\n",
       "      <td>14.95</td>\n",
       "      <td>11.238999</td>\n",
       "      <td>4208100.0</td>\n",
       "      <td>ACN.csv</td>\n",
       "      <td>2001</td>\n",
       "      <td>14.86</td>\n",
       "    </tr>\n",
       "    <tr>\n",
       "      <th>...</th>\n",
       "      <td>...</td>\n",
       "      <td>...</td>\n",
       "      <td>...</td>\n",
       "      <td>...</td>\n",
       "      <td>...</td>\n",
       "      <td>...</td>\n",
       "      <td>...</td>\n",
       "      <td>...</td>\n",
       "      <td>...</td>\n",
       "      <td>...</td>\n",
       "      <td>...</td>\n",
       "    </tr>\n",
       "    <tr>\n",
       "      <th>353260</th>\n",
       "      <td>ZIXI</td>\n",
       "      <td>2020-03-26</td>\n",
       "      <td>4.06</td>\n",
       "      <td>4.53</td>\n",
       "      <td>3.88</td>\n",
       "      <td>4.51</td>\n",
       "      <td>4.510000</td>\n",
       "      <td>1668500.0</td>\n",
       "      <td>ZIXI.csv</td>\n",
       "      <td>2020</td>\n",
       "      <td>4.00</td>\n",
       "    </tr>\n",
       "    <tr>\n",
       "      <th>353261</th>\n",
       "      <td>ZIXI</td>\n",
       "      <td>2020-03-27</td>\n",
       "      <td>4.49</td>\n",
       "      <td>4.71</td>\n",
       "      <td>4.10</td>\n",
       "      <td>4.60</td>\n",
       "      <td>4.600000</td>\n",
       "      <td>1146800.0</td>\n",
       "      <td>ZIXI.csv</td>\n",
       "      <td>2020</td>\n",
       "      <td>4.51</td>\n",
       "    </tr>\n",
       "    <tr>\n",
       "      <th>353262</th>\n",
       "      <td>ZIXI</td>\n",
       "      <td>2020-03-30</td>\n",
       "      <td>4.83</td>\n",
       "      <td>4.87</td>\n",
       "      <td>4.44</td>\n",
       "      <td>4.64</td>\n",
       "      <td>4.640000</td>\n",
       "      <td>1212000.0</td>\n",
       "      <td>ZIXI.csv</td>\n",
       "      <td>2020</td>\n",
       "      <td>4.60</td>\n",
       "    </tr>\n",
       "    <tr>\n",
       "      <th>353263</th>\n",
       "      <td>ZIXI</td>\n",
       "      <td>2020-03-31</td>\n",
       "      <td>4.60</td>\n",
       "      <td>4.69</td>\n",
       "      <td>4.10</td>\n",
       "      <td>4.31</td>\n",
       "      <td>4.310000</td>\n",
       "      <td>1057200.0</td>\n",
       "      <td>ZIXI.csv</td>\n",
       "      <td>2020</td>\n",
       "      <td>4.64</td>\n",
       "    </tr>\n",
       "    <tr>\n",
       "      <th>353264</th>\n",
       "      <td>ZIXI</td>\n",
       "      <td>2020-04-01</td>\n",
       "      <td>4.11</td>\n",
       "      <td>4.16</td>\n",
       "      <td>3.80</td>\n",
       "      <td>3.82</td>\n",
       "      <td>3.820000</td>\n",
       "      <td>539500.0</td>\n",
       "      <td>ZIXI.csv</td>\n",
       "      <td>2020</td>\n",
       "      <td>4.31</td>\n",
       "    </tr>\n",
       "  </tbody>\n",
       "</table>\n",
       "<p>353265 rows × 11 columns</p>\n",
       "</div>"
      ],
      "text/plain": [
       "       ticker       Date   Open   High    Low  Close  Adj Close      Volume  \\\n",
       "0         ACN 2001-07-19  15.10  15.29  15.00  15.17  11.404394  34994300.0   \n",
       "1         ACN 2001-07-20  15.05  15.05  14.80  15.01  11.284108   9238500.0   \n",
       "2         ACN 2001-07-23  15.00  15.01  14.55  15.00  11.276587   7501000.0   \n",
       "3         ACN 2001-07-24  14.95  14.97  14.70  14.86  11.171341   3537300.0   \n",
       "4         ACN 2001-07-25  14.70  14.95  14.65  14.95  11.238999   4208100.0   \n",
       "...       ...        ...    ...    ...    ...    ...        ...         ...   \n",
       "353260   ZIXI 2020-03-26   4.06   4.53   3.88   4.51   4.510000   1668500.0   \n",
       "353261   ZIXI 2020-03-27   4.49   4.71   4.10   4.60   4.600000   1146800.0   \n",
       "353262   ZIXI 2020-03-30   4.83   4.87   4.44   4.64   4.640000   1212000.0   \n",
       "353263   ZIXI 2020-03-31   4.60   4.69   4.10   4.31   4.310000   1057200.0   \n",
       "353264   ZIXI 2020-04-01   4.11   4.16   3.80   3.82   3.820000    539500.0   \n",
       "\n",
       "          source  Year  Close_lag_1  \n",
       "0        ACN.csv  2001          NaN  \n",
       "1        ACN.csv  2001        15.17  \n",
       "2        ACN.csv  2001        15.01  \n",
       "3        ACN.csv  2001        15.00  \n",
       "4        ACN.csv  2001        14.86  \n",
       "...          ...   ...          ...  \n",
       "353260  ZIXI.csv  2020         4.00  \n",
       "353261  ZIXI.csv  2020         4.51  \n",
       "353262  ZIXI.csv  2020         4.60  \n",
       "353263  ZIXI.csv  2020         4.64  \n",
       "353264  ZIXI.csv  2020         4.31  \n",
       "\n",
       "[353265 rows x 11 columns]"
      ]
     },
     "execution_count": 6,
     "metadata": {},
     "output_type": "execute_result"
    }
   ],
   "source": [
    "df"
   ]
  },
  {
   "cell_type": "code",
   "execution_count": 3,
   "metadata": {},
   "outputs": [],
   "source": [
    "ft_dir = os.getenv(\"FEATURES_DATA\", './data/features/stock_features')\n",
    "ft_glob = glob(ft_dir+'/*.parquet')\n",
    "# df = dd.read_parquet(ft_glob).compute().reset_index()"
   ]
  },
  {
   "cell_type": "markdown",
   "metadata": {},
   "source": [
    "## Data Preparation\n",
    "\n",
    "+ First, prepare four datasets, each with returns between March of a given year and March of the following year.\n",
    "+ For each data set, we can compute some descriptive statistics.\n",
    "+ We observe that there may be some distribution changes."
   ]
  },
  {
   "cell_type": "code",
   "execution_count": 7,
   "metadata": {},
   "outputs": [],
   "source": [
    "df_2018 = df[(df['Date'] >= '2018-03-01') & (df['Date']  < '2019-03-01')]\n",
    "df_2019 = df[(df['Date'] >= '2019-03-01') & (df['Date']  < '2020-03-01')]\n",
    "df_2020 = df[(df['Date'] >= '2020-03-01') & (df['Date']  < '2021-03-01')]\n",
    "df_2021 = df[(df['Date'] >= '2021-03-01') & (df['Date']  < '2022-03-01')]\n",
    "df_2022 = df[(df['Date'] >= '2022-03-01') & (df['Date']  < '2023-03-01')]"
   ]
  },
  {
   "cell_type": "code",
   "execution_count": null,
   "metadata": {},
   "outputs": [],
   "source": [
    "df_2018['returns'].describe()"
   ]
  },
  {
   "cell_type": "code",
   "execution_count": 6,
   "metadata": {},
   "outputs": [
    {
     "data": {
      "text/plain": [
       "count    2267.000000\n",
       "mean        0.007072\n",
       "std         0.216974\n",
       "min        -0.303547\n",
       "25%        -0.007273\n",
       "50%         0.001091\n",
       "75%         0.008462\n",
       "max         9.660822\n",
       "Name: returns, dtype: float64"
      ]
     },
     "execution_count": 6,
     "metadata": {},
     "output_type": "execute_result"
    }
   ],
   "source": [
    "df_2019['returns'].describe()"
   ]
  },
  {
   "cell_type": "code",
   "execution_count": 7,
   "metadata": {},
   "outputs": [
    {
     "data": {
      "text/plain": [
       "count    2259.000000\n",
       "mean        0.009681\n",
       "std         0.177753\n",
       "min        -0.345949\n",
       "25%        -0.010707\n",
       "50%         0.002011\n",
       "75%         0.014895\n",
       "max         5.675929\n",
       "Name: returns, dtype: float64"
      ]
     },
     "execution_count": 7,
     "metadata": {},
     "output_type": "execute_result"
    }
   ],
   "source": [
    "df_2020['returns'].describe()"
   ]
  },
  {
   "cell_type": "code",
   "execution_count": 8,
   "metadata": {},
   "outputs": [
    {
     "data": {
      "text/plain": [
       "count    2277.000000\n",
       "mean        0.034039\n",
       "std         1.116057\n",
       "min        -0.101915\n",
       "25%        -0.007290\n",
       "50%         0.001064\n",
       "75%         0.009198\n",
       "max        51.348436\n",
       "Name: returns, dtype: float64"
      ]
     },
     "execution_count": 8,
     "metadata": {},
     "output_type": "execute_result"
    }
   ],
   "source": [
    "df_2021['returns'].describe()"
   ]
  },
  {
   "cell_type": "code",
   "execution_count": 9,
   "metadata": {},
   "outputs": [
    {
     "data": {
      "text/plain": [
       "count    2259.000000\n",
       "mean        0.016357\n",
       "std         0.510301\n",
       "min        -0.167932\n",
       "25%        -0.012159\n",
       "50%        -0.000541\n",
       "75%         0.011908\n",
       "max        22.977526\n",
       "Name: returns, dtype: float64"
      ]
     },
     "execution_count": 9,
     "metadata": {},
     "output_type": "execute_result"
    }
   ],
   "source": [
    "df_2022['returns'].describe()"
   ]
  },
  {
   "cell_type": "markdown",
   "metadata": {},
   "source": [
    "# Komogorov-Smirnov Test\n",
    "\n",
    "+ The KS test can be accessed via the scipy library: `scipy.stats.kstest`\n",
    "+ This function can be used to perform two sample tests.\n",
    "+ The null hypothesis is that the two distributions are identical."
   ]
  },
  {
   "cell_type": "code",
   "execution_count": 10,
   "metadata": {},
   "outputs": [
    {
     "data": {
      "text/plain": [
       "KstestResult(statistic=0.034314065596832595, pvalue=0.13480604903839485, statistic_location=0.013485812569593802, statistic_sign=-1)"
      ]
     },
     "execution_count": 10,
     "metadata": {},
     "output_type": "execute_result"
    }
   ],
   "source": [
    "from scipy.stats import kstest\n",
    "\n",
    "kstest(df_2018['returns'].dropna(), \n",
    "       df_2019['returns'].dropna())"
   ]
  },
  {
   "cell_type": "code",
   "execution_count": 11,
   "metadata": {},
   "outputs": [
    {
     "data": {
      "text/plain": [
       "KstestResult(statistic=0.13064753191322345, pvalue=2.670261822755509e-17, statistic_location=0.013644776357206068, statistic_sign=1)"
      ]
     },
     "execution_count": 11,
     "metadata": {},
     "output_type": "execute_result"
    }
   ],
   "source": [
    "kstest(df_2019['returns'].dropna(), \n",
    "       df_2020['returns'].dropna())"
   ]
  },
  {
   "cell_type": "code",
   "execution_count": 12,
   "metadata": {},
   "outputs": [
    {
     "data": {
      "text/plain": [
       "KstestResult(statistic=0.1100472943535476, pvalue=2.0196636826634023e-12, statistic_location=0.01143078433526279, statistic_sign=-1)"
      ]
     },
     "execution_count": 12,
     "metadata": {},
     "output_type": "execute_result"
    }
   ],
   "source": [
    "kstest(df_2020['returns'].dropna(), \n",
    "       df_2021['returns'].dropna())"
   ]
  },
  {
   "cell_type": "code",
   "execution_count": 13,
   "metadata": {},
   "outputs": [
    {
     "data": {
      "text/plain": [
       "KstestResult(statistic=0.0940567987164211, pvalue=3.4449944295519247e-09, statistic_location=-0.007372480262691217, statistic_sign=-1)"
      ]
     },
     "execution_count": 13,
     "metadata": {},
     "output_type": "execute_result"
    }
   ],
   "source": [
    "kstest(df_2021['returns'].dropna(), \n",
    "       df_2022['returns'].dropna())"
   ]
  }
 ],
 "metadata": {
  "kernelspec": {
   "display_name": "dsi_production",
   "language": "python",
   "name": "python3"
  },
  "language_info": {
   "codemirror_mode": {
    "name": "ipython",
    "version": 3
   },
   "file_extension": ".py",
   "mimetype": "text/x-python",
   "name": "python",
   "nbconvert_exporter": "python",
   "pygments_lexer": "ipython3",
   "version": "3.13.7"
  }
 },
 "nbformat": 4,
 "nbformat_minor": 2
}
