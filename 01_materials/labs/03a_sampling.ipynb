{
 "cells": [
  {
   "cell_type": "code",
   "execution_count": 4,
   "metadata": {},
   "outputs": [
    {
     "name": "stdout",
     "output_type": "stream",
     "text": [
      "The dotenv extension is already loaded. To reload it, use:\n",
      "  %reload_ext dotenv\n"
     ]
    }
   ],
   "source": [
    "%load_ext dotenv\n",
    "%dotenv \n",
    "import os\n",
    "import sys\n",
    "sys.path.append(os.getenv('SRC_DIR', '../../05_src'))\n",
    "from utils.logger import get_logger\n",
    "_logs = get_logger(__name__)"
   ]
  },
  {
   "cell_type": "code",
   "execution_count": 5,
   "metadata": {},
   "outputs": [],
   "source": [
    "import dask.dataframe as dd\n",
    "import pandas as pd\n",
    "import numpy as np\n",
    "import os\n",
    "from glob import glob"
   ]
  },
  {
   "cell_type": "code",
   "execution_count": 6,
   "metadata": {},
   "outputs": [],
   "source": [
    "ft_dir = os.getenv(\"FEATURES_DATA\", '../../05_src/data/feature')\n",
    "ft_glob = glob(os.path.join(ft_dir, '**/*.parquet'), \n",
    "               recursive = True)\n",
    "df = dd.read_parquet(ft_glob).compute().reset_index()"
   ]
  },
  {
   "cell_type": "markdown",
   "metadata": {},
   "source": [
    "# Sampling in Python"
   ]
  },
  {
   "cell_type": "markdown",
   "metadata": {},
   "source": [
    "+ There are different packages that allow sampling.\n",
    "+ A practical approach is to use pandas/Dask sampling methods."
   ]
  },
  {
   "cell_type": "markdown",
   "metadata": {},
   "source": [
    "## Random Sampling\n",
    "\n",
    "+ Sample n rows from a dataframe with [`df.sample()`](https://pandas.pydata.org/docs/reference/api/pandas.DataFrame.sample.html).\n",
    "\n",
    "```\n",
    "DataFrame.sample(\n",
    "    n=None, frac=None, replace=False, weights=None, \n",
    "    random_state=None, axis=None, ignore_index=False\n",
    "    )\n",
    "```"
   ]
  },
  {
   "cell_type": "code",
   "execution_count": 7,
   "metadata": {},
   "outputs": [
    {
     "data": {
      "text/html": [
       "<div>\n",
       "<style scoped>\n",
       "    .dataframe tbody tr th:only-of-type {\n",
       "        vertical-align: middle;\n",
       "    }\n",
       "\n",
       "    .dataframe tbody tr th {\n",
       "        vertical-align: top;\n",
       "    }\n",
       "\n",
       "    .dataframe thead th {\n",
       "        text-align: right;\n",
       "    }\n",
       "</style>\n",
       "<table border=\"1\" class=\"dataframe\">\n",
       "  <thead>\n",
       "    <tr style=\"text-align: right;\">\n",
       "      <th></th>\n",
       "      <th>ticker</th>\n",
       "      <th>Date</th>\n",
       "      <th>Open</th>\n",
       "      <th>High</th>\n",
       "      <th>Low</th>\n",
       "      <th>Close</th>\n",
       "      <th>Adj Close</th>\n",
       "      <th>Volume</th>\n",
       "      <th>source</th>\n",
       "      <th>Year</th>\n",
       "      <th>Close_lag_1</th>\n",
       "    </tr>\n",
       "  </thead>\n",
       "  <tbody>\n",
       "    <tr>\n",
       "      <th>87629</th>\n",
       "      <td>DGX</td>\n",
       "      <td>2016-02-22</td>\n",
       "      <td>66.830002</td>\n",
       "      <td>67.739998</td>\n",
       "      <td>66.510002</td>\n",
       "      <td>66.699997</td>\n",
       "      <td>61.205196</td>\n",
       "      <td>819600.0</td>\n",
       "      <td>DGX.csv</td>\n",
       "      <td>2016</td>\n",
       "      <td>66.309998</td>\n",
       "    </tr>\n",
       "    <tr>\n",
       "      <th>289214</th>\n",
       "      <td>TNC</td>\n",
       "      <td>1975-10-07</td>\n",
       "      <td>0.000000</td>\n",
       "      <td>3.375000</td>\n",
       "      <td>3.125000</td>\n",
       "      <td>3.125000</td>\n",
       "      <td>0.373080</td>\n",
       "      <td>4000.0</td>\n",
       "      <td>TNC.csv</td>\n",
       "      <td>1975</td>\n",
       "      <td>3.000000</td>\n",
       "    </tr>\n",
       "    <tr>\n",
       "      <th>32576</th>\n",
       "      <td>BRQS</td>\n",
       "      <td>2016-08-22</td>\n",
       "      <td>10.160000</td>\n",
       "      <td>10.160000</td>\n",
       "      <td>10.160000</td>\n",
       "      <td>10.160000</td>\n",
       "      <td>10.160000</td>\n",
       "      <td>1000.0</td>\n",
       "      <td>BRQS.csv</td>\n",
       "      <td>2016</td>\n",
       "      <td>10.160000</td>\n",
       "    </tr>\n",
       "    <tr>\n",
       "      <th>332977</th>\n",
       "      <td>WST</td>\n",
       "      <td>1992-09-16</td>\n",
       "      <td>5.468750</td>\n",
       "      <td>5.468750</td>\n",
       "      <td>5.468750</td>\n",
       "      <td>5.468750</td>\n",
       "      <td>1.265519</td>\n",
       "      <td>1200.0</td>\n",
       "      <td>WST.csv</td>\n",
       "      <td>1992</td>\n",
       "      <td>5.437500</td>\n",
       "    </tr>\n",
       "    <tr>\n",
       "      <th>297403</th>\n",
       "      <td>TNC</td>\n",
       "      <td>2008-03-19</td>\n",
       "      <td>39.700001</td>\n",
       "      <td>39.700001</td>\n",
       "      <td>37.060001</td>\n",
       "      <td>37.060001</td>\n",
       "      <td>30.684294</td>\n",
       "      <td>177400.0</td>\n",
       "      <td>TNC.csv</td>\n",
       "      <td>2008</td>\n",
       "      <td>39.310001</td>\n",
       "    </tr>\n",
       "  </tbody>\n",
       "</table>\n",
       "</div>"
      ],
      "text/plain": [
       "       ticker       Date       Open       High        Low      Close  \\\n",
       "87629     DGX 2016-02-22  66.830002  67.739998  66.510002  66.699997   \n",
       "289214    TNC 1975-10-07   0.000000   3.375000   3.125000   3.125000   \n",
       "32576    BRQS 2016-08-22  10.160000  10.160000  10.160000  10.160000   \n",
       "332977    WST 1992-09-16   5.468750   5.468750   5.468750   5.468750   \n",
       "297403    TNC 2008-03-19  39.700001  39.700001  37.060001  37.060001   \n",
       "\n",
       "        Adj Close    Volume    source  Year  Close_lag_1  \n",
       "87629   61.205196  819600.0   DGX.csv  2016    66.309998  \n",
       "289214   0.373080    4000.0   TNC.csv  1975     3.000000  \n",
       "32576   10.160000    1000.0  BRQS.csv  2016    10.160000  \n",
       "332977   1.265519    1200.0   WST.csv  1992     5.437500  \n",
       "297403  30.684294  177400.0   TNC.csv  2008    39.310001  "
      ]
     },
     "execution_count": 7,
     "metadata": {},
     "output_type": "execute_result"
    }
   ],
   "source": [
    "df.sample(n = 5)"
   ]
  },
  {
   "cell_type": "code",
   "execution_count": null,
   "metadata": {},
   "outputs": [],
   "source": [
    "import random\n",
    "random.seed(42)\n",
    "sample_tickers = random.sample(df['ticker'].unique().tolist(), 30)\n",
    "df = df[df['ticker'].isin(sample_tickers)]\n",
    "simple_sample_dt = df.sample(frac = 0.1)\n",
    "simple_sample_dt.shape, df.shape"
   ]
  },
  {
   "cell_type": "markdown",
   "metadata": {},
   "source": [
    "Look at the distribution of tickers."
   ]
  },
  {
   "cell_type": "code",
   "execution_count": null,
   "metadata": {},
   "outputs": [],
   "source": [
    "df['ticker'].value_counts().plot(kind='bar')"
   ]
  },
  {
   "cell_type": "code",
   "execution_count": null,
   "metadata": {},
   "outputs": [],
   "source": [
    "simple_sample_dt['ticker'].value_counts().plot(kind='bar')"
   ]
  },
  {
   "cell_type": "markdown",
   "metadata": {},
   "source": [
    "## Stratified Sampling\n",
    "\n",
    "+ Use `groupby()` and `.sample()` for stratified sampling."
   ]
  },
  {
   "cell_type": "code",
   "execution_count": null,
   "metadata": {},
   "outputs": [],
   "source": [
    "strat_sample_dt = df.groupby(['ticker']).sample(frac = 0.1)\n",
    "strat_sample_dt['ticker'].value_counts().plot(kind='bar')"
   ]
  },
  {
   "cell_type": "markdown",
   "metadata": {},
   "source": [
    "# Sampling in Dask\n",
    "\n",
    "+ Stratified sampling in `dask` can be achieved with `groupby().apply()` and a lambda function."
   ]
  },
  {
   "cell_type": "code",
   "execution_count": null,
   "metadata": {},
   "outputs": [],
   "source": [
    "dd_dt = dd.read_parquet(ft_glob)\n",
    "strat_sample_dd = (dd_dt\n",
    "                      .groupby('ticker', group_keys=False)\n",
    "                      .apply(lambda x: x.sample(frac = 0.1))\n",
    "                      .compute()\n",
    "                      .reset_index())\n",
    "strat_sample_dd[strat_sample_dd['ticker'].isin(sample_tickers)]['ticker'].value_counts().plot(kind='bar')"
   ]
  }
 ],
 "metadata": {
  "kernelspec": {
   "display_name": "dsi_production",
   "language": "python",
   "name": "python3"
  },
  "language_info": {
   "codemirror_mode": {
    "name": "ipython",
    "version": 3
   },
   "file_extension": ".py",
   "mimetype": "text/x-python",
   "name": "python",
   "nbconvert_exporter": "python",
   "pygments_lexer": "ipython3",
   "version": "3.13.7"
  }
 },
 "nbformat": 4,
 "nbformat_minor": 2
}
